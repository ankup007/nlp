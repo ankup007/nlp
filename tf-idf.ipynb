{
 "cells": [
  {
   "cell_type": "markdown",
   "metadata": {},
   "source": [
    "## Term Frequency Inverse Document Frequency"
   ]
  },
  {
   "attachments": {},
   "cell_type": "markdown",
   "metadata": {},
   "source": [
    "$Tf-IDF formula: $\n",
    "\n",
    "$ tf(t,d) =   \\dfrac{\\text{(frequency of term t in document d)}} {\\text{(total number of terms in d)}} $\n",
    "\n",
    "$ idf(t) =  \\log{\\dfrac{1 + n}{1 + df(t)} + 1} $\n",
    "\n",
    "$where$ \n",
    "$\\\\ n: \\text{total number of documents in corpus} \\\\$\n",
    "$ df(t): \\text{number of documents having term t} $\n",
    "\n",
    "$Finally,\\\\$ \n",
    "$Tfidf(t,d) = tf(t,d) * idf(t) $\n",
    "\n",
    "$\\textbf{Note: }\\text{The formula for IDF provided above is the one used in sklearn. There are a few variations of it.}$\n",
    "$\\\\\\text{One of the variant being is as follows:} \\\\$\n",
    "$idf(t) = \\log{(\\dfrac{n}{df(t)})} $"
   ]
  },
  {
   "attachments": {},
   "cell_type": "markdown",
   "metadata": {},
   "source": [
    "## Example: Manual Calculation of Tf-IDF"
   ]
  },
  {
   "cell_type": "code",
   "execution_count": 4,
   "metadata": {},
   "outputs": [],
   "source": [
    "# assign documents\n",
    "d0 = 'I am happy today'\n",
    "\n",
    "d1 = 'Mohan is happy today'"
   ]
  },
  {
   "attachments": {},
   "cell_type": "markdown",
   "metadata": {},
   "source": [
    "- In d0 there are four terms: 'I', 'am', 'happy' & 'today'. \n",
    "- Let's calculate tf-idf of 'I'. "
   ]
  },
  {
   "cell_type": "code",
   "execution_count": 5,
   "metadata": {},
   "outputs": [],
   "source": [
    "import numpy as np\n",
    "import math"
   ]
  },
  {
   "cell_type": "code",
   "execution_count": 6,
   "metadata": {},
   "outputs": [],
   "source": [
    "tf_I_d0 = 1/4 "
   ]
  },
  {
   "cell_type": "code",
   "execution_count": 7,
   "metadata": {},
   "outputs": [],
   "source": [
    "idf_I = np.log((1+2)/(1+1))+1"
   ]
  },
  {
   "cell_type": "code",
   "execution_count": 8,
   "metadata": {},
   "outputs": [
    {
     "data": {
      "text/plain": [
       "0.3513662770270411"
      ]
     },
     "execution_count": 8,
     "metadata": {},
     "output_type": "execute_result"
    }
   ],
   "source": [
    "Tfidf_I_d0 = tf_I_d0 * idf_I\n",
    "Tfidf_I_d0"
   ]
  },
  {
   "attachments": {},
   "cell_type": "markdown",
   "metadata": {},
   "source": [
    "#### Let's now calculate tf-idf of 'happy' also in d0. "
   ]
  },
  {
   "cell_type": "code",
   "execution_count": 9,
   "metadata": {},
   "outputs": [
    {
     "data": {
      "text/plain": [
       "0.25"
      ]
     },
     "execution_count": 9,
     "metadata": {},
     "output_type": "execute_result"
    }
   ],
   "source": [
    "tf_idf_happy_d0 = 1/4 * (np.log((1+2)/(1+2))+1)\n",
    "tf_idf_happy_d0"
   ]
  },
  {
   "attachments": {},
   "cell_type": "markdown",
   "metadata": {},
   "source": [
    "#### so tf-idf values for 'I', 'am', 'happy' and 'today' in d0 will be 0.3513662770270411, 0.3513662770270411, 0.25 and 0.25 respectively"
   ]
  },
  {
   "attachments": {},
   "cell_type": "markdown",
   "metadata": {},
   "source": [
    "## Calculating Tf-IDF using sklearn "
   ]
  },
  {
   "cell_type": "code",
   "execution_count": 10,
   "metadata": {},
   "outputs": [],
   "source": [
    "# import required module\n",
    "from sklearn.feature_extraction.text import TfidfVectorizer"
   ]
  },
  {
   "cell_type": "code",
   "execution_count": 11,
   "metadata": {},
   "outputs": [],
   "source": [
    "# merge documents into a single corpus\n",
    "string = [d0, d1]"
   ]
  },
  {
   "cell_type": "code",
   "execution_count": 12,
   "metadata": {},
   "outputs": [
    {
     "data": {
      "text/plain": [
       "['I am happy today', 'Mohan is happy today']"
      ]
     },
     "execution_count": 12,
     "metadata": {},
     "output_type": "execute_result"
    }
   ],
   "source": [
    "string"
   ]
  },
  {
   "cell_type": "code",
   "execution_count": 13,
   "metadata": {},
   "outputs": [],
   "source": [
    "# create object\n",
    "tfidf = TfidfVectorizer(token_pattern='(?u)\\\\b\\\\w+\\\\b',lowercase=False)"
   ]
  },
  {
   "cell_type": "code",
   "execution_count": 14,
   "metadata": {},
   "outputs": [],
   "source": [
    "# get tf-df values\n",
    "result = tfidf.fit_transform(string)"
   ]
  },
  {
   "cell_type": "code",
   "execution_count": 15,
   "metadata": {},
   "outputs": [
    {
     "name": "stdout",
     "output_type": "stream",
     "text": [
      "\n",
      "Word indexes:\n",
      "{'I': 0, 'am': 2, 'happy': 3, 'today': 5, 'Mohan': 1, 'is': 4}\n",
      "\n",
      "tf-idf values in matrix form:\n",
      "[[0.57615236 0.         0.57615236 0.40993715 0.         0.40993715]\n",
      " [0.         0.57615236 0.         0.40993715 0.57615236 0.40993715]]\n"
     ]
    }
   ],
   "source": [
    "# get indexing\n",
    "print('\\nWord indexes:')\n",
    "print(tfidf.vocabulary_)\n",
    "\n",
    "# in matrix form\n",
    "print('\\ntf-idf values in matrix form:')\n",
    "print(result.toarray())\n"
   ]
  },
  {
   "cell_type": "code",
   "execution_count": 16,
   "metadata": {},
   "outputs": [
    {
     "data": {
      "text/plain": [
       "array([0.57615236, 0.        , 0.57615236, 0.40993715, 0.        ,\n",
       "       0.40993715])"
      ]
     },
     "execution_count": 16,
     "metadata": {},
     "output_type": "execute_result"
    }
   ],
   "source": [
    "result.toarray()[0]"
   ]
  },
  {
   "attachments": {},
   "cell_type": "markdown",
   "metadata": {},
   "source": [
    "### tf-idf of 'I' is 0.57615236 Different from what we calculated manually! Why? \n",
    "### Because, sklearn performs vector normalization which is nothing but L2 norm of the tf-idf vector. Let's verify. \n",
    "$ \\hat{\\mathbf{x}} = \\frac{\\mathbf{x}}{|\\mathbf{x}|_2} = \\frac{(x_1, x_2, \\ldots, x_n)}{\\sqrt{x_1^2 + x_2^2 + \\ldots + x_n^2}} $"
   ]
  },
  {
   "cell_type": "code",
   "execution_count": 17,
   "metadata": {},
   "outputs": [],
   "source": [
    "tf_idf_vector_do = [0.3513662770270411, 0.3513662770270411, 0.25, 0.25]\n",
    "\n",
    "l2_norm_d0 = np.sqrt(2*math.pow(0.3513662770270411,2)+2*math.pow(0.25,2))"
   ]
  },
  {
   "cell_type": "code",
   "execution_count": 18,
   "metadata": {},
   "outputs": [
    {
     "data": {
      "text/plain": [
       "0.5761523551647353"
      ]
     },
     "execution_count": 18,
     "metadata": {},
     "output_type": "execute_result"
    }
   ],
   "source": [
    "tf_idf_I_normalized = 0.3513662770270411/l2_norm_d0\n",
    "tf_idf_I_normalized"
   ]
  },
  {
   "cell_type": "code",
   "execution_count": null,
   "metadata": {},
   "outputs": [],
   "source": []
  }
 ],
 "metadata": {
  "kernelspec": {
   "display_name": "rag_py_3.9",
   "language": "python",
   "name": "python3"
  },
  "language_info": {
   "codemirror_mode": {
    "name": "ipython",
    "version": 3
   },
   "file_extension": ".py",
   "mimetype": "text/x-python",
   "name": "python",
   "nbconvert_exporter": "python",
   "pygments_lexer": "ipython3",
   "version": "3.10.0"
  },
  "orig_nbformat": 4
 },
 "nbformat": 4,
 "nbformat_minor": 2
}
